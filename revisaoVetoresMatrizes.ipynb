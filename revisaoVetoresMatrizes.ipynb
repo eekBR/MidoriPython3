{
  "nbformat": 4,
  "nbformat_minor": 0,
  "metadata": {
    "colab": {
      "provenance": [],
      "authorship_tag": "ABX9TyP29e2ipImIwseHDnlIDwQd",
      "include_colab_link": true
    },
    "kernelspec": {
      "name": "python3",
      "display_name": "Python 3"
    },
    "language_info": {
      "name": "python"
    }
  },
  "cells": [
    {
      "cell_type": "markdown",
      "metadata": {
        "id": "view-in-github",
        "colab_type": "text"
      },
      "source": [
        "<a href=\"https://colab.research.google.com/github/eekBR/MidoriPython3/blob/main/revisaoVetoresMatrizes.ipynb\" target=\"_parent\"><img src=\"https://colab.research.google.com/assets/colab-badge.svg\" alt=\"Open In Colab\"/></a>"
      ]
    },
    {
      "cell_type": "markdown",
      "source": [
        "#Introdução\n",
        "\n",
        "Vamos conhecer um pouco do Python3 através de aplicações de matrizes e geometria analítica.\n",
        "\n",
        "##Vetores e Matrizes\n",
        "\n",
        "Vetor é um arranjo em linha de números, que é representado entre colchetes e associado a uma letra minúscula com uma seta acima dela:\n",
        "\n",
        "\\begin{align*}\n",
        " \\vec{a}=\\left[\\begin{array}{ccc}\n",
        " 1 & 2 & 3\n",
        " \\end{array}\\right]\\qquad\n",
        "\\vec{b}=\\left[\\begin{array}{c}\n",
        " 1 \\\\ 2 \\\\3\n",
        " \\end{array}\\right]\n",
        "\\end{align*}\n",
        "\n"
      ],
      "metadata": {
        "id": "j__J1dsbPoMv"
      }
    },
    {
      "cell_type": "markdown",
      "source": [],
      "metadata": {
        "id": "GaG2uoW1PRga"
      }
    }
  ]
}