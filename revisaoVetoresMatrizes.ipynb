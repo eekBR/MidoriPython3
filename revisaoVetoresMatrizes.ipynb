{
  "nbformat": 4,
  "nbformat_minor": 0,
  "metadata": {
    "colab": {
      "provenance": [],
      "authorship_tag": "ABX9TyPrZBd3rrrIh4VzDCv/Kfjo",
      "include_colab_link": true
    },
    "kernelspec": {
      "name": "python3",
      "display_name": "Python 3"
    },
    "language_info": {
      "name": "python"
    }
  },
  "cells": [
    {
      "cell_type": "markdown",
      "metadata": {
        "id": "view-in-github",
        "colab_type": "text"
      },
      "source": [
        "<a href=\"https://colab.research.google.com/github/eekBR/MidoriPython3/blob/main/revisaoVetoresMatrizes.ipynb\" target=\"_parent\"><img src=\"https://colab.research.google.com/assets/colab-badge.svg\" alt=\"Open In Colab\"/></a>"
      ]
    },
    {
      "cell_type": "markdown",
      "source": [
        "#Introdução\n",
        "\n",
        "Vamos conhecer um pouco do Python3 através de aplicações de matrizes e geometria analítica.\n",
        "\n",
        "##Vetores\n",
        "\n",
        "Vetor é um arranjo em linha de números, que é representado entre colchetes e associado a uma letra minúscula com uma seta acima dela:\n",
        "\n",
        "\\begin{align*}\n",
        " \\vec{a}=\\left[\\begin{array}{ccc}\n",
        " 1 & 2 & 3\n",
        " \\end{array}\\right]\\qquad\n",
        "\\vec{b}=\\left[\\begin{array}{c}\n",
        " 1 \\\\ 2 \\\\3\n",
        " \\end{array}\\right]\n",
        "\\end{align*}\n",
        "\n",
        "##Matrizes\n",
        "As matrizes são arranjos em duas dimensões (linhas e colunas):\n",
        "\n",
        "\\begin{align*}\n",
        " \\textbf{A}=\\left[\\begin{array}{ccc}\n",
        " 1 & 2 & 3\\\\\n",
        " 3 & 4 & 5\n",
        " \\end{array}\\right]\\qquad\n",
        "\\textbf{B}=\\left[\\begin{array}{cc}\n",
        " 1 & 6\\\\ 2 & 5 \\\\3 & 4\n",
        " \\end{array}\\right]\n",
        "\\end{align*}\n",
        "\n",
        "Todo vetor é uma matriz, mas nem toda matriz é um vetor.\n",
        "\n",
        "As operações de soma e subtração de vetores e matrizes se resumem em:\n",
        "* devem ter a mesma dimensão;\n",
        "* as operações são executadas elemento a elemento.\n",
        "\n",
        "Valem as propriedades da soma/subtração numéricas:\n",
        "* comutativa;\n",
        "* associativa;\n",
        "* fechamento;\n",
        "* elemento neutro.\n",
        "\n",
        "A multiplicação de matrizes o número de colunas do primeiro termo de ser igual ao número de linhas do segundo termo. A matriz resultante tem a dimensão de número de linhas da primeira e número de colunas da segunda matriz.\n",
        "\n",
        "\n"
      ],
      "metadata": {
        "id": "j__J1dsbPoMv"
      }
    },
    {
      "cell_type": "markdown",
      "source": [],
      "metadata": {
        "id": "GaG2uoW1PRga"
      }
    }
  ]
}