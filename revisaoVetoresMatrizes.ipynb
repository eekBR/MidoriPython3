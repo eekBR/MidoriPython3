{
  "nbformat": 4,
  "nbformat_minor": 0,
  "metadata": {
    "colab": {
      "provenance": [],
      "authorship_tag": "ABX9TyPUwrNWZJ+6ohlzqAwDghHZ",
      "include_colab_link": true
    },
    "kernelspec": {
      "name": "python3",
      "display_name": "Python 3"
    },
    "language_info": {
      "name": "python"
    }
  },
  "cells": [
    {
      "cell_type": "markdown",
      "metadata": {
        "id": "view-in-github",
        "colab_type": "text"
      },
      "source": [
        "<a href=\"https://colab.research.google.com/github/eekBR/MidoriPython3/blob/main/revisaoVetoresMatrizes.ipynb\" target=\"_parent\"><img src=\"https://colab.research.google.com/assets/colab-badge.svg\" alt=\"Open In Colab\"/></a>"
      ]
    },
    {
      "cell_type": "markdown",
      "source": [
        "#Introdução\n",
        "\n",
        "Vamos conhecer um pouco do Python3 através de aplicações de matrizes e geometria analítica.\n",
        "\n",
        "##Vetores\n",
        "\n",
        "Vetor é um arranjo em linha de números, que é representado entre colchetes e associado a uma letra minúscula com uma seta acima dela:\n",
        "\n",
        "\\begin{align*}\n",
        " \\vec{a}=\\left[\\begin{array}{ccc}\n",
        " 1 & 2 & 3\n",
        " \\end{array}\\right]\\qquad\n",
        "\\vec{b}=\\left[\\begin{array}{c}\n",
        " 1 \\\\ 2 \\\\3\n",
        " \\end{array}\\right]\n",
        "\\end{align*}\n",
        "\n",
        "##Matrizes\n",
        "As matrizes são arranjos em duas dimensões (linhas e colunas):\n",
        "\n",
        "\\begin{align*}\n",
        " \\textbf{A}=\\left[\\begin{array}{ccc}\n",
        " 1 & 2 & 3\\\\\n",
        " 3 & 4 & 5\n",
        " \\end{array}\\right]\\qquad\n",
        "\\textbf{B}=\\left[\\begin{array}{cc}\n",
        " 1 & 6\\\\ 2 & 5 \\\\3 & 4\n",
        " \\end{array}\\right]\n",
        "\\end{align*}\n",
        "\n",
        "Todo vetor é uma matriz, mas nem toda matriz é um vetor.\n",
        "\n",
        "As operações de soma e subtração de vetores e matrizes se resumem em:\n",
        "* devem ter a mesma dimensão: $[a]_{ij}$ e $[b]_{ij}$\n",
        "\n",
        "* as operações são executadas elemento a elemento: $resultado_{ij}=a_{ij} \\pm b_{ij}$.\n",
        "\n",
        "\\begin{align*}\n",
        " \\left[\\begin{array}{ccc}\n",
        " 1\\pm3 & 2\\pm6 & 3\\pm2\\\\\n",
        " 3\\pm5 & 4\\pm(-3) & 5\\pm4\n",
        " \\end{array}\\right]=\\left[\\begin{array}{ccc}\n",
        " 1 & 2 & 3\\\\\n",
        " 3 & 4 & 5\n",
        " \\end{array}\\right]\\pm\n",
        "\\left[\\begin{array}{cc}\n",
        " 3 & 6 & 2 \\\\ 5 &-3 & 4\n",
        " \\end{array}\\right]\n",
        "\\end{align*}\n",
        "\n",
        "\n",
        "Valem as propriedades da soma/subtração numéricas (mostrando apenas para soma):\n",
        "* comutativa: $a_{ij} + b_{ij} = b_{ij} + a_{ij}$;\n",
        "* associativa: $(a_{ij} + b_{ij}) + c_{ij} = a_{ij} + (b_{ij}+c_{ij})$;\n",
        "* fechamento: o resultado da operação é um vetor de mesma dimensão;\n",
        "* elemento neutro: $a_{ij}  + o_{ij} = a_{ij}$.\n",
        "* elemento oposto: $a_{ij}  + (-a)_{ij} = o_{ij}$.\n",
        "\n",
        "$\\vec{o}$ é a matriz com elementos nulos.\n",
        "\n",
        "Na multiplicação de matrizes:\n",
        "\n",
        "* Na multiplicação de matrizes o número de colunas do primeiro termo de ser igual ao número de linhas do segundo termo.\n",
        "* A matriz resultante tem a dimensão de número de linhas da primeira e número de colunas da segunda matriz.\n",
        "\n",
        "As propriedades da multiplicação de matrizes são:\n",
        "\n",
        "* comutativa: $\\textbf{A} \\textbf{B} = \\textbf{B}\\textbf{A}$ (nem sempre);\n",
        "* associativa: $(\\textbf{A}  \\textbf{B}) \\textbf{C} = \\textbf{A}(  \\textbf{B} \\textbf{C})$;\n",
        "* fechamento: o resultado da operação é uma matriz;\n",
        "* elemento neutro: $\\textbf{A}  \\textbf{I} =\\textbf{A}$.\n",
        "* elemento inverso: $\\textbf{A}  \\textbf{A}^{-1} =\\textbf{A}^{-1}  \\textbf{A}=\\textbf{I}$ (nem sempre).\n"
      ],
      "metadata": {
        "id": "j__J1dsbPoMv"
      }
    },
    {
      "cell_type": "code",
      "source": [
        "import numpy as np\n",
        "\n",
        "a = np.array([[1,3,5],[3,4,6],[1,3,4]])\n",
        "\n",
        "inv_a = np.linalg.inv(a)\n",
        "\n",
        "\n",
        "det_a = np.linalg.det(a)\n",
        "\n",
        "5*inv_a"
      ],
      "metadata": {
        "colab": {
          "base_uri": "https://localhost:8080/"
        },
        "id": "DjjpO7vVIvQc",
        "outputId": "44abfd17-59e4-42c6-e4d1-cd0c1985ed68"
      },
      "execution_count": 11,
      "outputs": [
        {
          "output_type": "execute_result",
          "data": {
            "text/plain": [
              "array([[-2.,  3., -2.],\n",
              "       [-6., -1.,  9.],\n",
              "       [ 5., -0., -5.]])"
            ]
          },
          "metadata": {},
          "execution_count": 11
        }
      ]
    },
    {
      "cell_type": "markdown",
      "source": [
        "\n",
        "\n",
        "```\n",
        "# This is formatted as code\n",
        "```\n",
        "inport numpy as np\n"
      ],
      "metadata": {
        "id": "GaG2uoW1PRga"
      }
    }
  ]
}